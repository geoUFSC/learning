{
 "cells": [
  {
   "cell_type": "markdown",
   "metadata": {},
   "source": [
    " <a href=\"https://colab.research.google.com/github/geoUFSC/learning/blob/main/Resist%C3%AAncia%20ao%20cisalhamento_Shear%20strength.ipynb\" target=\"_parent\"><img src=\"https://colab.research.google.com/assets/colab-badge.svg\" alt=\"Open In Colab\"/></a>"
   ]
  },
  {
   "cell_type": "markdown",
   "metadata": {},
   "source": [
    " # Resistência ao Cisalhamento _(Shear Strength)_\n",
    "\n",
    " Parte do conteúdo deste notebook foi adaptado de: \\\n",
    " _Exercise material of the BSc-level course **Mechanical Properties of Loose Rocks and Soils** and the MSc-level course **Foundations of Soil Mechanics**._\n",
    "\n",
    " *Prof. Dr. Thomas Nagel\n",
    " Chair of Soil Mechanics and Foundation Engineering\n",
    " Geotechnical Institute\n",
    " Technische Universität Bergakademie Freiberg*\n",
    " https://tu-freiberg.de/en/soilmechanics"
   ]
  },
  {
   "cell_type": "markdown",
   "metadata": {},
   "source": [
    " ## Pré-requisitos _(Prerequisites)_\n",
    "\n",
    " Vamos utilizar os pacotes `numpy` para funções numéricas, `matplotlib` para visualização gráfica e `ipywidgets` para os componentes interativos. \\\n",
    "_We will use the `numpy` package for numerical functions, `matplotlib` for plotting, and `ipywidgets` for interactive components._"
   ]
  },
  {
   "cell_type": "code",
   "execution_count": 4,
   "metadata": {},
   "outputs": [],
   "source": [
    "#%pip install numpy matplotlib ipywidgets\n",
    "\n",
    "# Pacotes necessários\n",
    "import numpy as np\n",
    "import matplotlib.pyplot as plt\n",
    "from ipywidgets import widgets\n",
    "from ipywidgets import interact, interactive\n",
    "from matplotlib import patches\n",
    "from IPython.display import Math\n",
    "\n",
    "# Configurações de plotagem\n",
    "plt.rcParams['lines.linewidth']= 2.0\n",
    "plt.rcParams['lines.color']= 'black'\n",
    "plt.rcParams['legend.frameon']=True\n",
    "plt.rcParams['figure.figsize'] = (8, 6)\n",
    "plt.rcParams['font.family'] = 'serif'\n",
    "plt.rcParams['legend.fontsize']= 16\n",
    "plt.rcParams['font.size'] = 16\n",
    "plt.rcParams['axes.spines.right'] = False\n",
    "plt.rcParams['axes.spines.top'] = False\n",
    "plt.rcParams['axes.spines.left'] = True\n",
    "plt.rcParams['axes.spines.bottom'] = True\n",
    "plt.rcParams['axes.axisbelow'] = True\n"
   ]
  },
  {
   "cell_type": "markdown",
   "metadata": {},
   "source": [
    " ## Círculo de Mohr-Coulomb _(Mohr-Coulomb circle)_\n",
    "\n",
    " O Círculo de Mohr permite visualizar as tensões **normal** ($\\sigma$) e **cisalhante** ($\\tau$) atuante sobre diferentes **planos de atuação** em um elemento. \\\n",
    " Através do seguinte gráfico interativo, podemos observar a representação no Círculo de Mohr para diferentes **estados de tensão** do solo, definidos a partir das **tensões principais** $\\sigma_1$ e $\\sigma_3$. \n",
    "\n",
    " _Mohr’s Circle allows us to visualize the **normal** ($\\sigma$) and **shear** ($\\tau$) stresses acting on different **planes of action** within an element._ \\\n",
    " _With the following interactive plot, we can observe the representation in Mohr’s Circle for different **stress states** of the soil, defined by the **principal stresses** $\\sigma_1$ and $\\sigma_3$._\n",
    "\n"
   ]
  },
  {
   "cell_type": "code",
   "execution_count": 5,
   "metadata": {},
   "outputs": [
    {
     "data": {
      "application/vnd.jupyter.widget-view+json": {
       "model_id": "b35fdb224be943ed94e7e250afefe47e",
       "version_major": 2,
       "version_minor": 0
      },
      "text/plain": [
       "interactive(children=(FloatSlider(value=100.0, description='σ_x (kPa)', max=500.0, min=-500.0), FloatSlider(va…"
      ]
     },
     "metadata": {},
     "output_type": "display_data"
    }
   ],
   "source": [
    "def calc_principal_stresses(s):\n",
    "    eigenValues, eigenVectors = np.linalg.eig(s)\n",
    "    idx = eigenValues.argsort()[::-1]   \n",
    "    eigenValues = eigenValues[idx]\n",
    "    eigenVectors = eigenVectors[:,idx]\n",
    "    return eigenValues, eigenVectors\n",
    "\n",
    "def strength(sn,c,phi):\n",
    "    friction = np.tan(deg_to_rad(phi))\n",
    "    return c + friction*sn\n",
    "\n",
    "def plot_interactive():\n",
    "    @interact(sx=widgets.FloatSlider(value=100, step = 0.1, min=-500, max=500., description=r'σ_x (kPa)'),\n",
    "              sz=widgets.FloatSlider(value=450, step = 0.1, min=-500, max=500., description=r'σ_z (kPa)'),\n",
    "              sxz=widgets.FloatSlider(value=0, step = 0.1, min=0, max=200., description=r'𝜏_xz (kPa)'),\n",
    "    )\n",
    "    def plot_MC_states(sx, sz, sxz):\n",
    "        stress = np.array([[sx,sxz],[sxz,sz]])\n",
    "        si, si_dir = calc_principal_stresses(stress)\n",
    "        s_n = np.linspace(np.minimum(si[-1],0.),si[0]+(si[0]-np.minimum(si[-1],0.))/5,100)\n",
    "\n",
    "        # Ponto médio e cisalhante máximo\n",
    "        s_m = (si[0]+si[-1])/2.\n",
    "        tau_max = (si[0]-si[-1])/2.\n",
    "\n",
    "        # Círculo de tensões | Mohr's circle\n",
    "        fig, ax = plt.subplots(figsize=(14,10))\n",
    "        MC = patches.Circle((s_m, 0.), radius=tau_max,color='red',fill=False,lw=2)\n",
    "        ax.add_patch(MC)\n",
    "        ax.plot(si[0],0,marker='o',color='blue')\n",
    "        ax.annotate(r'$\\sigma_1$', xy=(si[0],10),color='blue')\n",
    "        ax.plot(si[1],0,marker='o',color='blue')\n",
    "        ax.annotate(r'$\\sigma_3$', xy=(si[1],10),color='blue')\n",
    "        ax.plot(s_m,tau_max,marker='o',color='blue')\n",
    "        ax.annotate(r'$\\tau_\\mathrm{max}$', xy=(s_m,tau_max+10),color='blue')\n",
    "\n",
    "        # Estado de tensão | Stress state\n",
    "        ax.plot(sx,sxz,marker='o',color='black')\n",
    "        ax.annotate(' $(\\\\sigma_{x},\\\\tau_{xz})$ ',xy=(sx,sxz-20),color='black', horizontalalignment='right')\n",
    "        ax.plot([s_m,sx],[0,sxz],color='black',ls=':')\n",
    "        ax.plot(sz,-sxz,marker='o',color='black')\n",
    "        ax.annotate(' $(\\\\sigma_{z},\\\\tau_{zx})$ ',xy=(sz,-sxz-20),color='black')\n",
    "        ax.plot([s_m,sz],[0,-sxz],color='black',ls=':')\n",
    "\n",
    "        # Layout\n",
    "        ax.spines['bottom'].set_position('zero')\n",
    "        ax.spines['left'].set_position('zero')\n",
    "        ax.set(adjustable='box', aspect='equal')\n",
    "        ax.set_xlabel('$\\\\sigma$ (kPa)')\n",
    "        ax.set_ylabel('$\\\\tau$ (kPa)')\n",
    "        ax.xaxis.set_label_coords(1.1, 0.5)\n",
    "        ax.yaxis.set_label_coords(0.5, 1.1)\n",
    "        ax.set_xlim(-550, 550)\n",
    "        ax.set_ylim(-300, 300)\n",
    "        fig.tight_layout()\n",
    "        plt.subplots_adjust(top=0.88)\n",
    "        plt.show()\n",
    "\n",
    "plot_interactive()\n"
   ]
  },
  {
   "cell_type": "markdown",
   "metadata": {},
   "source": [
    " ### Plano de tensões qualquer\n",
    "\n",
    " <p align=\"center\">\n",
    "<img src=\"images/Elemento.png\" alt=\"\" width=\"300\">\n",
    "</p>"
   ]
  },
  {
   "cell_type": "markdown",
   "metadata": {},
   "source": [
    " ### Exercício (Exercise)\n",
    "\n",
    " Varie os valores de tensão atuantes para obter as seguintes situações. Quais as faixas de valores de $\\sigma_1$ e $\\sigma_3$ correspondentes (veja o exemplo no primeiro caso)? \\\n",
    " _Vary the acting stress values to obtain the following situations. What are the corresponding ranges of $\\sigma_1$ and $\\sigma_3$ (see the example in the first case)?_\n",
    "\n",
    " 1. Compressão em um único eixo | _Uniaxial compression_: $\\sigma_1 > 0, \\sigma_3 = 0$\n",
    " 2. Tração em um único eixo | _Uniaxial tension_:\n",
    " 3. Cisalhamento puro | _Pure shear_:\n",
    " 4. Compressão \"triaxial\" | _“Triaxial” compression_ ($\\sigma_2 = \\sigma_3$)"
   ]
  },
  {
   "cell_type": "markdown",
   "metadata": {},
   "source": [
    " ## Critério de ruptura de Mohr-Coulomb _(Mohr-Coulomb Failure Criterion)_\n",
    " O critério de ruptura estabelece as condições para as quais as tensões que atuam no solo em um determinado plano se igualam a resistência ao cisalhamento do solo e consequentemente ocorre a ruptura generalizada do solo.\n",
    " O critério de ruptura proposto por Mohr-Coulomb estabelece uma relação linear entre a **tensão normal** ($\\sigma$) e **cisalhante** ($\\tau$) no plano de ruptura, dada por: \\\n",
    " _The failure criterion establishes the conditions under which the stresses acting on a given plane in the soil equal the shear strength of the soil, and consequently, generalized soil failure occurs._\n",
    "_The failure criterion proposed by Mohr-Coulomb establishes a linear relationship between the **normal stress** ($\\sigma$) and the **shear stress** ($\\tau$) on the failure plane, given by:_\n",
    " $$\n",
    "     \\tau = c + \\sigma' \\tan \\varphi\n",
    " $$\n",
    " onde $c$ é a **coesão** e $\\varphi$ é o **ângulo de atrito interno** do solo. \\\n",
    "_where $c$ is the **cohesion** and $\\varphi$ is the **internal friction angle** of the soil._\n",
    "\n",
    " No exemplo abaixo, observamos o que ocorre quando temos o aumento da **poropressão** ($\\mu$) com o aumento da saturação do solo, e consequente perda da **tensão efetiva** ($\\sigma'$), resultando em um novo estado de tensões: \\\n",
    " _In the example below, we observe what happens when there is an increase in **pore pressure** ($\\mu$) due to higher soil saturation, and the consequent loss of **effective stress** ($\\sigma'$), resulting in a new stress state:_\n",
    " $$\n",
    "     \\sigma' = \\sigma - \\mu\n",
    " $$"
   ]
  },
  {
   "cell_type": "code",
   "execution_count": 9,
   "metadata": {},
   "outputs": [
    {
     "data": {
      "application/vnd.jupyter.widget-view+json": {
       "model_id": "817e0de1d9d6426294690eb66145b63b",
       "version_major": 2,
       "version_minor": 0
      },
      "text/plain": [
       "interactive(children=(FloatSlider(value=30.0, description='c (kPa)', step=1.0), FloatSlider(value=30.0, descri…"
      ]
     },
     "metadata": {},
     "output_type": "display_data"
    }
   ],
   "source": [
    "def calc_critical_state(s1, s3, c, phi):\n",
    "    s_m = (s1 + s3)/2\n",
    "    r = (s1 - s3)/2\n",
    "    tan_phi = np.tan(np.deg2rad(phi))\n",
    "    s_crits = np.roots([tan_phi**2 + 1, 2*c*tan_phi - 2*s_m, c**2 + s_m**2 - r**2])\n",
    "    s_crit = s_crits[1]\n",
    "    tau_crit = c + tan_phi*s_crit\n",
    "    return s_crit, tau_crit\n",
    "\n",
    "\n",
    "def plot_mohr_circle(ax, s1, s3, angle=180., color='red', ls='-'):\n",
    "    ax.add_patch(patches.Circle(((s1 + s3)/2, 0.), radius=(s1 - s3)/2,\n",
    "                 fill=None, lw=2, angle=angle, color=color, ls=ls))\n",
    "    ax.set(adjustable='box', aspect='equal')\n",
    "    ax.set_xlabel(r\"$\\sigma$ (kPa)\")\n",
    "    ax.set_ylabel(r'$\\tau$ (kPa)')\n",
    "\n",
    "\n",
    "def plot_friction(ax, c, phi, x_lim, ls='-', color='black'):\n",
    "    x_lim = np.array(x_lim)\n",
    "    ax.plot(x_lim, c + np.tan(np.deg2rad(phi))*x_lim, color=color, ls=ls)\n",
    "\n",
    "\n",
    "def plot_interactive_effective():\n",
    "    @interact(c=widgets.FloatSlider(value=30., min=0., max=100., step=1., description='c (kPa)'),\n",
    "              f=widgets.FloatSlider(value=30., min=0., max=100., step=1., description=r'φ (°)'),\n",
    "              u=widgets.FloatSlider(value=0., min=-100., max=100., step=1., description='µ (kPa)'))\n",
    "    def plot_MC(c, f, u):\n",
    "        fig, ax = plt.subplots()\n",
    "        s1 = 300  # kPa\n",
    "        s3 = 100  # kPa\n",
    "\n",
    "        # Tensões totais | Total stresses\n",
    "        plot_mohr_circle(ax, s1, s3, angle=180.)\n",
    "        ax.annotate(\"$\\\\sigma_1$\", (s1, 0))\n",
    "        ax.annotate(\"$\\\\sigma_3$\", (s3, 0))\n",
    "\n",
    "        # Tensões efetivas | Effective stresses\n",
    "        s1_eff = s1 - u\n",
    "        s3_eff = s3 - u\n",
    "        if not u == 0:\n",
    "            plot_mohr_circle(ax, s1_eff, s3_eff, angle=180., ls='--')\n",
    "            ax.annotate(\"$\\\\sigma_1'$\", (s1_eff, 0))\n",
    "            ax.annotate(\"$\\\\sigma_3'$\", (s3_eff, 0))\n",
    "\n",
    "        # Resistência ao cisalhamento | Shear strength\n",
    "        plot_friction(ax, c, f, [0, 400])\n",
    "\n",
    "        # Critério de ruptura | Failure criterion\n",
    "        s_crit, tau_crit = calc_critical_state(s1_eff, s3_eff, c, f)\n",
    "        if np.isreal(s_crit):\n",
    "            plt.plot(s_crit, tau_crit, 'o', color='black')\n",
    "            plt.annotate('$(\\\\sigma^*,\\\\tau^*)$', (s_crit, tau_crit-20), color='black')\n",
    "\n",
    "        # Layout\n",
    "        ax.set_xlim(0, 400)\n",
    "        ax.set_ylim(0, 200)\n",
    "        plt.show()\n",
    "\n",
    "\n",
    "plot_interactive_effective()\n",
    "\n"
   ]
  },
  {
   "cell_type": "markdown",
   "metadata": {},
   "source": [
    " ### Exercício _(Exercise)_\n",
    "\n",
    " Discuta as seguintes situações | Discuss the following situations:\n",
    " 1. O que ocorre com o Círculo de Mohr quando se aumenta a poropressão? Explique. \\\n",
    " _What happens to Mohr’s Circle when pore pressure increases? Explain._\n",
    " 2. Para que valor aproximado de poropressão ocorre a ruptura? Quais parâmetros influenciam neste resultado? \\\n",
    " _For what approximate value of pore pressure does failure occur? Which parameters influence this result?_\n",
    " 3. Qual seria o impacto da capilaridade no Círculo de Mohr? Por quê? \\\n",
    " _What would be the impact of capillarity on Mohr’s Circle? Why?_\n",
    "\n"
   ]
  },
  {
   "cell_type": "markdown",
   "metadata": {},
   "source": [
    " ---\n",
    " ---\n",
    "\n",
    " #### **PROJETO: REPOSITÓRIO PYTHON PARA GEOTECNIA _(PYTHON REPOSITORY FOR GEOTECHNICS)_**\n",
    "\n",
    " Este repositório faz parte do projeto de extensão da **Universidade Federal de Santa Catarina** (UFSC) denominado **\"Repositório Python para Geotecnia\"**, cujo objetivo é desenvolver e compartilhar scripts interativos de geotecnia. \\\n",
    " _This repostitory is part of the extension project of the **Federal University of Santa Catarina** (UFSC) called **\"Python Repository for Geotechnics\"**, which aims to develop and share interactive scripts for geotechnical engineering._\n",
    "\n",
    " ##### **Contato: _(Contact:)_**\n",
    " - Prof. Stephanie Thiesen* (coordenadora/_coordinator_): `stephanie.thiesen@ufsc.br` \\\n",
    "  *Para sugestões, entre em contato pelo e-mail \\\n",
    " _*For suggestions, please contact via e-mail_\n",
    "\n",
    " **Isenção de Responsabilidade:** Os autores deste projeto não se responsabilizam por quaisquer usos indevidos, imprecisões ou danos resultantes da aplicação dos scripts e funções contidos neste repositório. O uso dos materiais é de responsabilidade exclusiva do usuário. \\\n",
    " **_Disclaimer:_** _The authors of this project are not responsible for any misuse, inaccuracies, or damages resulting from the application of the scripts and functions contained in this repository. The use of the materials is the sole responsibility of the user._\n",
    "\n",
    " ---\n",
    " ---"
   ]
  },
  {
   "cell_type": "markdown",
   "metadata": {},
   "source": []
  }
 ],
 "metadata": {
  "kernelspec": {
   "display_name": "Python 3",
   "language": "python",
   "name": "python3"
  },
  "language_info": {
   "codemirror_mode": {
    "name": "ipython",
    "version": 3
   },
   "file_extension": ".py",
   "mimetype": "text/x-python",
   "name": "python",
   "nbconvert_exporter": "python",
   "pygments_lexer": "ipython3",
   "version": "3.11.9"
  }
 },
 "nbformat": 4,
 "nbformat_minor": 2
}
