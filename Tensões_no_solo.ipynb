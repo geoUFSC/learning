{
  "cells": [
    {
      "cell_type": "markdown",
      "metadata": {
        "colab_type": "text",
        "id": "view-in-github"
      },
      "source": [
        "<a href=\"https://colab.research.google.com/github/geoUFSC/learning/blob/main/Tens%C3%B5es_no_solo.ipynb\" target=\"_parent\"><img src=\"https://colab.research.google.com/assets/colab-badge.svg\" alt=\"Open In Colab\"/></a>"
      ]
    },
    {
      "cell_type": "markdown",
      "metadata": {
        "id": "1RRwSmN87aib"
      },
      "source": [
        "# Tensões geostáticas em solo homogêneo _(Geostatic stresses in homogeneous soil mass)_\n",
        "\n",
        "Neste exemplo, vamos calcular as tensões verticais e horizontais (total e efetiva) do solo usando o Princípio das tensões efetivas.\\\n",
        "_In this example, we will calculate the vertical and horizontal stresses (total and effective) of the soil using the Effective stress principle._   \n",
        "\n"
      ]
    },
    {
      "cell_type": "markdown",
      "metadata": {
        "id": "oI2XGOE3PBxC"
      },
      "source": [
        "### Parâmetros _(Parameters)_\n",
        "\n",
        "A seguir, apresenta-se uma imagem para melhor interpretação e a definição das variáveis: \\\n",
        "_In the following, an image is presented for better interpretation along with the definition of the variables:_  \n",
        "\n",
        "<p align=\"center\">\n",
        "<img src=\"images/tensoes-geostaticas.png\" alt=\"\" width=\"500\">\n",
        "</p>\n",
        "\n",
        "Para o cálculo das tesões no solo são necessários os seguintes parâmetros: \\\n",
        "_The following parameters are required to calculate the stresses in the soil:_\n",
        "\n",
        "- **z**: Cota do elemento analisado, m | _Elevation of the analyzed element, m_ \n",
        "- **zw**:  Cota de NA, m | _Water table elevation, m_ \n",
        "- **k0**:  Coeficiente de empuxo em repouso, $k_0$ -| _Coefficient of earth pressure at rest, $k_0$_ \n",
        "- **gamma_n**:  Peso específico do solo, $\\gamma_n$ kN/m³| _Unit weight of soil, $\\gamma_n$ kN/m³_ \n",
        "- **gamma_w**:  Peso específico da água, $\\gamma_w$ kN/m³ | _Unit weight of water, $\\gamma_w$ kN/m³_ \n",
        "- **u**:  Poropressão, $\\mu$ kN/m³ | _Pore pressure, $\\mu$ kN/m²_ \n",
        "- **sig_v**:  Tensão vertical total, $\\sigma_v$ kN/m² | _Total vertical stress, $\\sigma_v$ kN/m²_ \n",
        "- **sig_vef**:  Tensão vertical efetiva, $\\sigma_{v,ef}$ kN/m² | _Effective vertical stress, $\\sigma_{v,ef}$ kN/m²_ \n",
        "- **sig_h**:  Tensão horizontal total, $\\sigma_h$ kN/m² | _Total horizontal stress, $\\sigma_h$ kN/m²_ \n",
        "- **sig_hef**:  Tensão horizotal efetiva, $\\sigma_{h,ef}$ kN/m² | _Effective horizontal stress, $\\sigma_{h,ef}$ kN/m²_ \n",
        "\n",
        "**Atenção:** Se $zw<0$ então o NA está acima do NT \\\n",
        "_**Attention:** If $zw<0$, then the water table (NA) is above the ground level (NT)_"
      ]
    },
    {
      "cell_type": "markdown",
      "metadata": {
        "id": "BaMJU1tBP5P6"
      },
      "source": [
        "## Pré-requisitos _(Prerequisites)_\n",
        "Vamos utilizar os pacotes:\n",
        "\n",
        "- `numpy`: para funções numéricas _(for numerical functions)_\n",
        "- `matplotlib`: para  visualizações gráfica _(for graphical visualizations)_\n",
        "- `ipywidgets`: para ferramentas interativas _(for interactive tools)_"
      ]
    },
    {
      "cell_type": "code",
      "execution_count": 1,
      "metadata": {
        "id": "lHOi6cdZ7aic"
      },
      "outputs": [],
      "source": [
        "import matplotlib.pyplot as plt\n",
        "import numpy as np\n",
        "import ipywidgets as widgets\n",
        "from ipywidgets import interact, VBox, Output"
      ]
    },
    {
      "cell_type": "markdown",
      "metadata": {
        "id": "ovhtqBvA7aid"
      },
      "source": [
        "### Exercício _(Exercise)_\n",
        "\n",
        "Defina uma função chamada `calcular_tensoes` que calcule a poropressão, tensão vertical e horizonta, total e efetiva em um ponto/elemento de solo de interesse. \\\n",
        "_Define a function `calcular_tensoes` that computes the pore pressure, vertical and horizontal stresses, both total and effective, at a soil point/element of interest._\n",
        "\n"
      ]
    },
    {
      "cell_type": "code",
      "execution_count": 16,
      "metadata": {
        "id": "9KHYqh4Z7aid"
      },
      "outputs": [],
      "source": [
        "# Cálculos\n",
        "def calcular_tensoes(z, gamma_n, zw, gamma_w, k0):\n",
        "    sig_v = np.where(zw < 0, gamma_n * z + gamma_w * -zw, gamma_n * z)\n",
        "    u = np.where(z <= zw, 0, (z - zw) * gamma_w)\n",
        "    sig_vef = sig_v - u\n",
        "    sig_hef = k0 * sig_vef\n",
        "    sig_h = sig_hef + u\n",
        "    return sig_v, u, sig_vef, sig_hef, sig_h"
      ]
    },
    {
      "cell_type": "markdown",
      "metadata": {
        "id": "NtPWqyyf7aie"
      },
      "source": [
        "### Verificações _(Testing)_\n",
        "\n",
        "Vamos verificar a implementação para alguns valores esperados. Caso alguma verificação falhe, volte à célula anterior e corrija a função.\\\n",
        "_We will verify the implementation against a few expected values. If any check fails, go back to the previous cell and fix the function._"
      ]
    },
    {
      "cell_type": "code",
      "execution_count": 17,
      "metadata": {
        "colab": {
          "base_uri": "https://localhost:8080/"
        },
        "id": "AFxJirCE7aie",
        "outputId": "cafa7c6b-52f8-4c45-fe49-a55a1275fb4a"
      },
      "outputs": [
        {
          "name": "stdout",
          "output_type": "stream",
          "text": [
            "Sucesso!\n"
          ]
        }
      ],
      "source": [
        "# Função para verificar se os valores são iguais dentro de uma tolerância\n",
        "# Helper function to compare the function result with manual calculations, with a precision of 4 decimal places\n",
        "def verifica_se_iguais(x, y):\n",
        "    np.testing.assert_almost_equal(x, y, decimal=4)\n",
        "\n",
        "# 1o conjunto de dados (1st set of data)\n",
        "z = 4 # m\n",
        "gamma_n = 20 # kN/m³\n",
        "zw = -2 # m\n",
        "gamma_w = 10 # kN/m³\n",
        "k0 = 0.5\n",
        "verifica_se_iguais(calcular_tensoes(z, gamma_n, zw, gamma_w, k0), (100, 60, 40, 20, 80)) # kN/m²\n",
        "\n",
        "# 2o conjunto de dados (2nd set of data)\n",
        "z = 40 # m\n",
        "gamma_n = 18 # kN/m³\n",
        "zw = 0 # m\n",
        "gamma_w = 10 # kN/m³\n",
        "k0 = 0.5\n",
        "sig_v, u, sig_vef, sig_hef, sig_h = calcular_tensoes(z, gamma_n, zw, gamma_w, k0)\n",
        "verifica_se_iguais(sig_h, 560) # kN/m²\n",
        "\n",
        "# 3o conjunto de dados (3rd set of data)\n",
        "z = 40 # m\n",
        "gamma_n = 18 # kN/m³\n",
        "zw = 30 # m\n",
        "gamma_w = 10 # kN/m³\n",
        "k0 = 0.5\n",
        "sig_v, u, sig_vef, sig_hef, sig_h = calcular_tensoes(z, gamma_n, zw, gamma_w, k0)\n",
        "verifica_se_iguais(sig_h, 410) # kN/m²\n",
        "\n",
        "# 4o conjunto de dados (4th set of data)\n",
        "z = 10\n",
        "gamma_n = 22\n",
        "zw = 0\n",
        "gamma_w = 10\n",
        "k0 = 1\n",
        "sig_v, u, sig_vef, sig_hef, sig_h = calcular_tensoes(z, gamma_n, zw, gamma_w, k0)\n",
        "verifica_se_iguais(sig_h, 220) # kN/m²\n",
        "\n",
        "# Se todas as verificações passarem, imprime sucesso\n",
        "# If no error occurs, the checks were successful \"Sucesso!\"\n",
        "print('Sucesso!')"
      ]
    },
    {
      "cell_type": "markdown",
      "metadata": {
        "id": "9vSXSjiG7aie"
      },
      "source": [
        "### Exercício _(Exercise)_\n",
        "\n",
        "Determine as tensões verticais e horizontais totais e efetivas atuantes em um elemento A de solo situado na profundidade a 10 mestros de profundidade ($z=10$ m). Adote $k_0=0.5$ e $\\gamma_w=10$ kN/m³ \\\n",
        "_Determine the total and effective vertical and horizontal stresses acting on a soil element A located at a depth of 10 meters ($z=10$ m). Assume $k_0=0.5$ and $\\gamma_w=10$ kN/m³._\n",
        "\n",
        "<p align=\"center\">\n",
        "<img src=\"images/tensoes-geostaticas-ex.1.png\" alt=\"\" width=\"500\">\n",
        "</p>"
      ]
    },
    {
      "cell_type": "code",
      "execution_count": 33,
      "metadata": {
        "colab": {
          "base_uri": "https://localhost:8080/"
        },
        "id": "dfgxECCx7aif",
        "outputId": "6876d85c-8708-4fc5-bb8c-ed2c56d15faf"
      },
      "outputs": [
        {
          "name": "stdout",
          "output_type": "stream",
          "text": [
            "Resultado manual: | Manual results:\n",
            "μ: 80 kPa\n",
            "σ_v: 180 kPa\n",
            "σ_v,ef: 100 kPa\n",
            "σ_h: 130 kPa\n",
            "σ_h,ef: 50 kPa\n",
            "_________________\n",
            "Resultados da função: | Function results:\n",
            "μ: 80 kPa\n",
            "σ_v: 180 kPa\n",
            "σ_v,ef: 100 kPa\n",
            "σ_h: 130 kPa\n",
            "σ_h,ef: 50 kPa\n"
          ]
        }
      ],
      "source": [
        "#Cálculo manual para comparação \n",
        "#Manual calculation for comparison\n",
        "sig_v = 18 * 10\n",
        "u = (10 - 2) * 10\n",
        "sig_vef = sig_v - u\n",
        "sig_hef = 0.5 * sig_vef\n",
        "sig_h = sig_hef + u\n",
        "\n",
        "print(f\"Resultado manual: | Manual results:\")\n",
        "print(f\"\\u03bc: {int(u)} kPa\")\n",
        "print(f\"\\u03c3_v: {int(sig_v)} kPa\") \n",
        "print(f\"\\u03c3_v,ef: {int(sig_vef)} kPa\")\n",
        "print(f\"\\u03c3_h: {int(sig_h)} kPa\")\n",
        "print(f\"\\u03c3_h,ef: {int(sig_hef)} kPa\")\n",
        "\n",
        "print(f\"_________________\")\n",
        "\n",
        "#Solução usando a função definida anteriormente \n",
        "#Solution using the previously defined function\n",
        "sig_v, u, sig_vef, sig_hef, sig_h = calcular_tensoes(10, 18, 2, 10, 0.5)\n",
        "print(f\"Resultados da função: | Function results:\")\n",
        "print(f\"\\u03bc: {int(u)} kPa\")\n",
        "print(f\"\\u03c3_v: {int(sig_v)} kPa\")\n",
        "print(f\"\\u03c3_v,ef: {int(sig_vef)} kPa\")\n",
        "print(f\"\\u03c3_h: {int(sig_h)} kPa\")\n",
        "print(f\"\\u03c3_h,ef: {int(sig_hef)} kPa\")\n",
        "\n"
      ]
    },
    {
      "cell_type": "markdown",
      "metadata": {
        "id": "GAEDLsaP7aif"
      },
      "source": [
        "## Gráfico de tensões verticais e horizontais ao longo da profundidade _(Vertical and horizontal stresses along depth)_"
      ]
    },
    {
      "cell_type": "code",
      "execution_count": null,
      "metadata": {
        "colab": {
          "base_uri": "https://localhost:8080/",
          "height": 839,
          "referenced_widgets": [
            "8305f7e0e8d947bf8f26f94d1eccf212",
            "544e6b82f7724009a1e2069b0700b995",
            "3f10fb86d2804d0bb511ab858836f40e",
            "0fd9c02031fa4566bc6394c58acd3620",
            "cd5c31d8228f4416ae5eefd3240afb58",
            "c5ca68e4859f4fecb6e7c14be6dd1651",
            "509e4de46ad94d13b2efdd3e16ca89f9",
            "b69d28f88c8f48e8a6449462d9b23224",
            "48e24d28959642a7af93a63f08fbe07d",
            "14f7d4da3e004d1ca9c2bcc90114583e",
            "1bdb48dade2e4a8c8cb837a346015226",
            "bc1a0888d16345fcb059aee1363a813f",
            "68211d0e19e842648575cdf46d1365fc",
            "a0c1d036b3cb4263ad692ced7cd56d69",
            "4cb5f71c7537488b9344207d4797c785",
            "0056b42e8b594590bf4f1edbbe2b4e49"
          ]
        },
        "id": "Av4cX8yB7aif",
        "outputId": "fff7e1cb-b3a8-4561-e4eb-5e2160950369"
      },
      "outputs": [
        {
          "data": {
            "application/vnd.jupyter.widget-view+json": {
              "model_id": "b15dec10684a4f708a22a2194f30d26b",
              "version_major": 2,
              "version_minor": 0
            },
            "text/plain": [
              "VBox(children=(FloatSlider(value=18.0, description='gamma_n', max=22.0, min=14.0), FloatSlider(value=0.5, desc…"
            ]
          },
          "metadata": {},
          "output_type": "display_data"
        }
      ],
      "source": [
        "\n",
        "# Função para atualizar o gráfico e imprimir os resultados \n",
        "# Function to update the graph and print the results\n",
        "def atualizar_grafico(gamma_n, k0, zw, z_value): \n",
        "    z = np.linspace(0, z_value, 500)  # Transforma z_value em um array de profundidades \n",
        "    sig_v, u, sig_vef, sig_hef, sig_h = calcular_tensoes(z, gamma_n, zw, gamma_w, k0)\n",
        "\n",
        "    # Limpar a área de saída antes de plotar (Clear outputs before plotting)\n",
        "    out.clear_output(wait=True)\n",
        "\n",
        "    # Imprimindo os gráficos (Plotting the graphs)\n",
        "    with out:\n",
        "        fig, (ax1, ax2) = plt.subplots(1, 2, figsize=(12, 6))\n",
        "\n",
        "        # Gráfico 1: Tensão Vertical (sig_v) e Tensão Vertical Efetiva (sig_vef)\n",
        "        ax1.plot(u, z, label='Poropressão (u)', color= 'blue')\n",
        "        ax1.plot(sig_v, z, label='Tensão Vertical (sig_v)', color='coral')\n",
        "        ax1.plot(sig_vef, z, label='Tensão Vertical Efetiva (sig_vef)', linestyle='--', color= 'green')\n",
        "\n",
        "        # Adiciona linha tracejada entre poropressão e sig_v\n",
        "        for i in range(len(z)):\n",
        "            ax1.plot([u[i], sig_v[i]], [z[i], z[i]], linestyle='--', alpha=0.5, linewidth=0.5, color='green')\n",
        "\n",
        "        ax1.set_xlabel('Tensão (kN/m²)')\n",
        "        ax1.xaxis.set_label_position('top')\n",
        "        ax1.xaxis.tick_top()\n",
        "        ax1.set_ylabel('Profundidade (m)')\n",
        "        ax1.set_title('Tensões Verticais')\n",
        "        ax1.legend()\n",
        "        ax1.set_xlim([0, 1000])  # Define o limite máximo do eixo x para 1000\n",
        "        ax1.set_ylim(ax1.get_ylim()[::-1])\n",
        "        ax1.set_xlim(left=0)\n",
        "        ax1.grid(True)\n",
        "        # Gráfico 2: Tensão Horizontal (sig_h) e Tensão Horizontal Efetiva (sig_hef)\n",
        "        ax2.plot(u, z, label='Poropressão (u)', color= 'blue')\n",
        "        ax2.plot(sig_h, z, label='Tensão Horizontal (sig_h)',color='coral')\n",
        "        ax2.plot(sig_hef, z, label='Tensão Horizontal Efetiva (sig_hef)', linestyle='--', color= 'green')\n",
        "\n",
        "        # Adiciona linha tracejada entre poropressão e sig_h\n",
        "        for i in range(len(z)):\n",
        "            ax2.plot([u[i], sig_h[i]], [z[i], z[i]], linestyle='--', alpha=0.5, linewidth=0.5, color='green')  # linha tracejada preta\n",
        "\n",
        "        ax2.set_xlabel('Tensão (kN/m²)')\n",
        "        ax2.xaxis.set_label_position('top')\n",
        "        ax2.xaxis.tick_top()\n",
        "        ax2.set_ylabel('Profundidade (m)')\n",
        "        ax2.set_title('Tensões Horizontais')\n",
        "        ax2.legend()\n",
        "        ax2.set_xlim([0, 1000])  # Define o limite máximo do eixo x para 1000\n",
        "        ax2.set_ylim(ax2.get_ylim()[::-1])\n",
        "        ax2.set_xlim(left=0)\n",
        "        ax2.grid(True)\n",
        "\n",
        "        plt.tight_layout()\n",
        "        plt.show()\n",
        "\n",
        "      # Impressão dos resultados\n",
        "        print(f'Resultados:')\n",
        "        print(f'Tensão Vertical (sig_v): {int(sig_v[-1])} kPa')\n",
        "        print(f'Poropressão (u): {int(u[-1])} kPa')\n",
        "        print(f'Tensão Vertical Efetiva (sig_vef): {int(sig_vef[-1])} kPa')\n",
        "        print(f'Tensão Horizontal Efetiva (sig_hef): {int(sig_hef[-1])} kPa')\n",
        "        print(f'Tensão Horizontal (sig_h): {int(sig_h[-1])} kPa')\n",
        "# Dados de exemplo\n",
        "gamma_w = 10\n",
        "\n",
        "# Cria os sliders para os valores de gamma_n, k0 e zw e uma entrada para z\n",
        "slider_gamma_n = widgets.FloatSlider(min=14, max=22, step=0.1, value=18, description='gamma_n')\n",
        "slider_k0 = widgets.FloatSlider(min=0.3, max=1, step=0.01, value=0.5, description='k0')\n",
        "slider_zw = widgets.FloatSlider(min=0, max=40, step=1, value=0, description='zw')\n",
        "entrada_z = widgets.FloatText(value=40, description='z', continuous_update=False)\n",
        "\n",
        "# Área de saída para mensagens e resultados\n",
        "out = Output()\n",
        "\n",
        "# Usa o interator do ipywidgets para atualizar o gráfico quando os sliders forem movidos\n",
        "ui = VBox([slider_gamma_n, slider_k0, slider_zw, entrada_z, out])\n",
        "widgets.interactive_output(atualizar_grafico, {'gamma_n': slider_gamma_n, 'k0': slider_k0, 'zw': slider_zw, 'z_value': entrada_z})\n",
        "\n",
        "display(ui)\n"
      ]
    },
    {
      "cell_type": "markdown",
      "metadata": {
        "id": "hfmo0_VlUgHM"
      },
      "source": [
        "---\n",
        "---\n",
        "#### **PROJETO: REPOSITÓRIO PYTHON PARA GEOTECNIA _(PYTHON REPOSITORY FOR GEOTECHNICS)_**\n",
        "Este repositório faz parte do projeto de extensão da **Universidade Federal de Santa Catarina** (UFSC) denominado **\"Repositório Python para Geotecnia\"**, cujo objetivo é desenvolver e compartilhar scripts interativos de geotecnia.\\\n",
        "_This repostitory is part of the extension project of the **Federal University of Santa Catarina** (UFSC) called **\"Python Repository for Geotechnics\"**, which aims to develop and share interactive scripts for geotechnical engineering._\n",
        "\n",
        "##### Equipe 2024: _(Team 2024)_\n",
        "- Prof. Stephanie Thiesen* (coordenadora/_coordinator_): `stephanie.thiesen@ufsc.br` \\\n",
        "    - Bárbara Liskoski (voluntária | _volunteer_)\n",
        "    - Célio de Sousa Lopes (bolsista | _scholarship holder_)\n",
        "    - Leonardo Taveira de Paula (voluntário | _volunteer_)\n",
        "\n",
        " *Para sugestões, entre em contato pelo e-mail \\\n",
        "_*For suggestions, please contact via e-mail_\n",
        "\n",
        "**Isenção de Responsabilidade:**\n",
        "Os autores deste projeto não se responsabilizam por quaisquer usos indevidos, imprecisões ou danos resultantes da aplicação dos scripts e funções contidos neste repositório. O uso dos materiais é de responsabilidade exclusiva do usuário. \\\n",
        "**_Disclaimer:_** _The authors of this project are not responsible for any misuse, inaccuracies, or damages resulting from the application of the scripts and functions contained in this repository. The use of the materials is the sole responsibility of the user._\n",
        "\n",
        "---\n",
        "---"
      ]
    }
  ],
  "metadata": {
    "colab": {
      "include_colab_link": true,
      "provenance": []
    },
    "kernelspec": {
      "display_name": "Python 3",
      "language": "python",
      "name": "python3"
    },
    "language_info": {
      "codemirror_mode": {
        "name": "ipython",
        "version": 3
      },
      "file_extension": ".py",
      "mimetype": "text/x-python",
      "name": "python",
      "nbconvert_exporter": "python",
      "pygments_lexer": "ipython3",
      "version": "3.11.9"
    },
    "widgets": {
      "application/vnd.jupyter.widget-state+json": {
        "0056b42e8b594590bf4f1edbbe2b4e49": {
          "model_module": "@jupyter-widgets/base",
          "model_module_version": "1.2.0",
          "model_name": "LayoutModel",
          "state": {
            "_model_module": "@jupyter-widgets/base",
            "_model_module_version": "1.2.0",
            "_model_name": "LayoutModel",
            "_view_count": null,
            "_view_module": "@jupyter-widgets/base",
            "_view_module_version": "1.2.0",
            "_view_name": "LayoutView",
            "align_content": null,
            "align_items": null,
            "align_self": null,
            "border": null,
            "bottom": null,
            "display": null,
            "flex": null,
            "flex_flow": null,
            "grid_area": null,
            "grid_auto_columns": null,
            "grid_auto_flow": null,
            "grid_auto_rows": null,
            "grid_column": null,
            "grid_gap": null,
            "grid_row": null,
            "grid_template_areas": null,
            "grid_template_columns": null,
            "grid_template_rows": null,
            "height": null,
            "justify_content": null,
            "justify_items": null,
            "left": null,
            "margin": null,
            "max_height": null,
            "max_width": null,
            "min_height": null,
            "min_width": null,
            "object_fit": null,
            "object_position": null,
            "order": null,
            "overflow": null,
            "overflow_x": null,
            "overflow_y": null,
            "padding": null,
            "right": null,
            "top": null,
            "visibility": null,
            "width": null
          }
        },
        "0fd9c02031fa4566bc6394c58acd3620": {
          "model_module": "@jupyter-widgets/controls",
          "model_module_version": "1.5.0",
          "model_name": "FloatSliderModel",
          "state": {
            "_dom_classes": [],
            "_model_module": "@jupyter-widgets/controls",
            "_model_module_version": "1.5.0",
            "_model_name": "FloatSliderModel",
            "_view_count": null,
            "_view_module": "@jupyter-widgets/controls",
            "_view_module_version": "1.5.0",
            "_view_name": "FloatSliderView",
            "continuous_update": true,
            "description": "zw",
            "description_tooltip": null,
            "disabled": false,
            "layout": "IPY_MODEL_bc1a0888d16345fcb059aee1363a813f",
            "max": 40,
            "min": 0,
            "orientation": "horizontal",
            "readout": true,
            "readout_format": ".2f",
            "step": 1,
            "style": "IPY_MODEL_68211d0e19e842648575cdf46d1365fc",
            "value": 0
          }
        },
        "14f7d4da3e004d1ca9c2bcc90114583e": {
          "model_module": "@jupyter-widgets/base",
          "model_module_version": "1.2.0",
          "model_name": "LayoutModel",
          "state": {
            "_model_module": "@jupyter-widgets/base",
            "_model_module_version": "1.2.0",
            "_model_name": "LayoutModel",
            "_view_count": null,
            "_view_module": "@jupyter-widgets/base",
            "_view_module_version": "1.2.0",
            "_view_name": "LayoutView",
            "align_content": null,
            "align_items": null,
            "align_self": null,
            "border": null,
            "bottom": null,
            "display": null,
            "flex": null,
            "flex_flow": null,
            "grid_area": null,
            "grid_auto_columns": null,
            "grid_auto_flow": null,
            "grid_auto_rows": null,
            "grid_column": null,
            "grid_gap": null,
            "grid_row": null,
            "grid_template_areas": null,
            "grid_template_columns": null,
            "grid_template_rows": null,
            "height": null,
            "justify_content": null,
            "justify_items": null,
            "left": null,
            "margin": null,
            "max_height": null,
            "max_width": null,
            "min_height": null,
            "min_width": null,
            "object_fit": null,
            "object_position": null,
            "order": null,
            "overflow": null,
            "overflow_x": null,
            "overflow_y": null,
            "padding": null,
            "right": null,
            "top": null,
            "visibility": null,
            "width": null
          }
        },
        "1bdb48dade2e4a8c8cb837a346015226": {
          "model_module": "@jupyter-widgets/controls",
          "model_module_version": "1.5.0",
          "model_name": "SliderStyleModel",
          "state": {
            "_model_module": "@jupyter-widgets/controls",
            "_model_module_version": "1.5.0",
            "_model_name": "SliderStyleModel",
            "_view_count": null,
            "_view_module": "@jupyter-widgets/base",
            "_view_module_version": "1.2.0",
            "_view_name": "StyleView",
            "description_width": "",
            "handle_color": null
          }
        },
        "3f10fb86d2804d0bb511ab858836f40e": {
          "model_module": "@jupyter-widgets/controls",
          "model_module_version": "1.5.0",
          "model_name": "FloatSliderModel",
          "state": {
            "_dom_classes": [],
            "_model_module": "@jupyter-widgets/controls",
            "_model_module_version": "1.5.0",
            "_model_name": "FloatSliderModel",
            "_view_count": null,
            "_view_module": "@jupyter-widgets/controls",
            "_view_module_version": "1.5.0",
            "_view_name": "FloatSliderView",
            "continuous_update": true,
            "description": "k0",
            "description_tooltip": null,
            "disabled": false,
            "layout": "IPY_MODEL_14f7d4da3e004d1ca9c2bcc90114583e",
            "max": 1,
            "min": 0.3,
            "orientation": "horizontal",
            "readout": true,
            "readout_format": ".2f",
            "step": 0.01,
            "style": "IPY_MODEL_1bdb48dade2e4a8c8cb837a346015226",
            "value": 0.5
          }
        },
        "48e24d28959642a7af93a63f08fbe07d": {
          "model_module": "@jupyter-widgets/controls",
          "model_module_version": "1.5.0",
          "model_name": "SliderStyleModel",
          "state": {
            "_model_module": "@jupyter-widgets/controls",
            "_model_module_version": "1.5.0",
            "_model_name": "SliderStyleModel",
            "_view_count": null,
            "_view_module": "@jupyter-widgets/base",
            "_view_module_version": "1.2.0",
            "_view_name": "StyleView",
            "description_width": "",
            "handle_color": null
          }
        },
        "4cb5f71c7537488b9344207d4797c785": {
          "model_module": "@jupyter-widgets/controls",
          "model_module_version": "1.5.0",
          "model_name": "DescriptionStyleModel",
          "state": {
            "_model_module": "@jupyter-widgets/controls",
            "_model_module_version": "1.5.0",
            "_model_name": "DescriptionStyleModel",
            "_view_count": null,
            "_view_module": "@jupyter-widgets/base",
            "_view_module_version": "1.2.0",
            "_view_name": "StyleView",
            "description_width": ""
          }
        },
        "509e4de46ad94d13b2efdd3e16ca89f9": {
          "model_module": "@jupyter-widgets/base",
          "model_module_version": "1.2.0",
          "model_name": "LayoutModel",
          "state": {
            "_model_module": "@jupyter-widgets/base",
            "_model_module_version": "1.2.0",
            "_model_name": "LayoutModel",
            "_view_count": null,
            "_view_module": "@jupyter-widgets/base",
            "_view_module_version": "1.2.0",
            "_view_name": "LayoutView",
            "align_content": null,
            "align_items": null,
            "align_self": null,
            "border": null,
            "bottom": null,
            "display": null,
            "flex": null,
            "flex_flow": null,
            "grid_area": null,
            "grid_auto_columns": null,
            "grid_auto_flow": null,
            "grid_auto_rows": null,
            "grid_column": null,
            "grid_gap": null,
            "grid_row": null,
            "grid_template_areas": null,
            "grid_template_columns": null,
            "grid_template_rows": null,
            "height": null,
            "justify_content": null,
            "justify_items": null,
            "left": null,
            "margin": null,
            "max_height": null,
            "max_width": null,
            "min_height": null,
            "min_width": null,
            "object_fit": null,
            "object_position": null,
            "order": null,
            "overflow": null,
            "overflow_x": null,
            "overflow_y": null,
            "padding": null,
            "right": null,
            "top": null,
            "visibility": null,
            "width": null
          }
        },
        "544e6b82f7724009a1e2069b0700b995": {
          "model_module": "@jupyter-widgets/controls",
          "model_module_version": "1.5.0",
          "model_name": "FloatSliderModel",
          "state": {
            "_dom_classes": [],
            "_model_module": "@jupyter-widgets/controls",
            "_model_module_version": "1.5.0",
            "_model_name": "FloatSliderModel",
            "_view_count": null,
            "_view_module": "@jupyter-widgets/controls",
            "_view_module_version": "1.5.0",
            "_view_name": "FloatSliderView",
            "continuous_update": true,
            "description": "gamma_n",
            "description_tooltip": null,
            "disabled": false,
            "layout": "IPY_MODEL_b69d28f88c8f48e8a6449462d9b23224",
            "max": 22,
            "min": 14,
            "orientation": "horizontal",
            "readout": true,
            "readout_format": ".2f",
            "step": 0.1,
            "style": "IPY_MODEL_48e24d28959642a7af93a63f08fbe07d",
            "value": 18.2
          }
        },
        "68211d0e19e842648575cdf46d1365fc": {
          "model_module": "@jupyter-widgets/controls",
          "model_module_version": "1.5.0",
          "model_name": "SliderStyleModel",
          "state": {
            "_model_module": "@jupyter-widgets/controls",
            "_model_module_version": "1.5.0",
            "_model_name": "SliderStyleModel",
            "_view_count": null,
            "_view_module": "@jupyter-widgets/base",
            "_view_module_version": "1.2.0",
            "_view_name": "StyleView",
            "description_width": "",
            "handle_color": null
          }
        },
        "8305f7e0e8d947bf8f26f94d1eccf212": {
          "model_module": "@jupyter-widgets/controls",
          "model_module_version": "1.5.0",
          "model_name": "VBoxModel",
          "state": {
            "_dom_classes": [],
            "_model_module": "@jupyter-widgets/controls",
            "_model_module_version": "1.5.0",
            "_model_name": "VBoxModel",
            "_view_count": null,
            "_view_module": "@jupyter-widgets/controls",
            "_view_module_version": "1.5.0",
            "_view_name": "VBoxView",
            "box_style": "",
            "children": [
              "IPY_MODEL_544e6b82f7724009a1e2069b0700b995",
              "IPY_MODEL_3f10fb86d2804d0bb511ab858836f40e",
              "IPY_MODEL_0fd9c02031fa4566bc6394c58acd3620",
              "IPY_MODEL_cd5c31d8228f4416ae5eefd3240afb58",
              "IPY_MODEL_c5ca68e4859f4fecb6e7c14be6dd1651"
            ],
            "layout": "IPY_MODEL_509e4de46ad94d13b2efdd3e16ca89f9"
          }
        },
        "a0c1d036b3cb4263ad692ced7cd56d69": {
          "model_module": "@jupyter-widgets/base",
          "model_module_version": "1.2.0",
          "model_name": "LayoutModel",
          "state": {
            "_model_module": "@jupyter-widgets/base",
            "_model_module_version": "1.2.0",
            "_model_name": "LayoutModel",
            "_view_count": null,
            "_view_module": "@jupyter-widgets/base",
            "_view_module_version": "1.2.0",
            "_view_name": "LayoutView",
            "align_content": null,
            "align_items": null,
            "align_self": null,
            "border": null,
            "bottom": null,
            "display": null,
            "flex": null,
            "flex_flow": null,
            "grid_area": null,
            "grid_auto_columns": null,
            "grid_auto_flow": null,
            "grid_auto_rows": null,
            "grid_column": null,
            "grid_gap": null,
            "grid_row": null,
            "grid_template_areas": null,
            "grid_template_columns": null,
            "grid_template_rows": null,
            "height": null,
            "justify_content": null,
            "justify_items": null,
            "left": null,
            "margin": null,
            "max_height": null,
            "max_width": null,
            "min_height": null,
            "min_width": null,
            "object_fit": null,
            "object_position": null,
            "order": null,
            "overflow": null,
            "overflow_x": null,
            "overflow_y": null,
            "padding": null,
            "right": null,
            "top": null,
            "visibility": null,
            "width": null
          }
        },
        "b69d28f88c8f48e8a6449462d9b23224": {
          "model_module": "@jupyter-widgets/base",
          "model_module_version": "1.2.0",
          "model_name": "LayoutModel",
          "state": {
            "_model_module": "@jupyter-widgets/base",
            "_model_module_version": "1.2.0",
            "_model_name": "LayoutModel",
            "_view_count": null,
            "_view_module": "@jupyter-widgets/base",
            "_view_module_version": "1.2.0",
            "_view_name": "LayoutView",
            "align_content": null,
            "align_items": null,
            "align_self": null,
            "border": null,
            "bottom": null,
            "display": null,
            "flex": null,
            "flex_flow": null,
            "grid_area": null,
            "grid_auto_columns": null,
            "grid_auto_flow": null,
            "grid_auto_rows": null,
            "grid_column": null,
            "grid_gap": null,
            "grid_row": null,
            "grid_template_areas": null,
            "grid_template_columns": null,
            "grid_template_rows": null,
            "height": null,
            "justify_content": null,
            "justify_items": null,
            "left": null,
            "margin": null,
            "max_height": null,
            "max_width": null,
            "min_height": null,
            "min_width": null,
            "object_fit": null,
            "object_position": null,
            "order": null,
            "overflow": null,
            "overflow_x": null,
            "overflow_y": null,
            "padding": null,
            "right": null,
            "top": null,
            "visibility": null,
            "width": null
          }
        },
        "bc1a0888d16345fcb059aee1363a813f": {
          "model_module": "@jupyter-widgets/base",
          "model_module_version": "1.2.0",
          "model_name": "LayoutModel",
          "state": {
            "_model_module": "@jupyter-widgets/base",
            "_model_module_version": "1.2.0",
            "_model_name": "LayoutModel",
            "_view_count": null,
            "_view_module": "@jupyter-widgets/base",
            "_view_module_version": "1.2.0",
            "_view_name": "LayoutView",
            "align_content": null,
            "align_items": null,
            "align_self": null,
            "border": null,
            "bottom": null,
            "display": null,
            "flex": null,
            "flex_flow": null,
            "grid_area": null,
            "grid_auto_columns": null,
            "grid_auto_flow": null,
            "grid_auto_rows": null,
            "grid_column": null,
            "grid_gap": null,
            "grid_row": null,
            "grid_template_areas": null,
            "grid_template_columns": null,
            "grid_template_rows": null,
            "height": null,
            "justify_content": null,
            "justify_items": null,
            "left": null,
            "margin": null,
            "max_height": null,
            "max_width": null,
            "min_height": null,
            "min_width": null,
            "object_fit": null,
            "object_position": null,
            "order": null,
            "overflow": null,
            "overflow_x": null,
            "overflow_y": null,
            "padding": null,
            "right": null,
            "top": null,
            "visibility": null,
            "width": null
          }
        },
        "c5ca68e4859f4fecb6e7c14be6dd1651": {
          "model_module": "@jupyter-widgets/output",
          "model_module_version": "1.0.0",
          "model_name": "OutputModel",
          "state": {
            "_dom_classes": [],
            "_model_module": "@jupyter-widgets/output",
            "_model_module_version": "1.0.0",
            "_model_name": "OutputModel",
            "_view_count": null,
            "_view_module": "@jupyter-widgets/output",
            "_view_module_version": "1.0.0",
            "_view_name": "OutputView",
            "layout": "IPY_MODEL_0056b42e8b594590bf4f1edbbe2b4e49",
            "msg_id": "",
            "outputs": [
              {
                "data": {
                  "image/png": "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\n",
                  "text/plain": "<Figure size 1200x600 with 2 Axes>"
                },
                "metadata": {},
                "output_type": "display_data"
              },
              {
                "name": "stdout",
                "output_type": "stream",
                "text": [
                  "Resultados:\n",
                  "Tensão Vertical (sig_v): 364 kPa\n",
                  "Poropressão (u): 200 kPa\n",
                  "Tensão Vertical Efetiva (sig_vef): 164 kPa\n",
                  "Tensão Horizontal Efetiva (sig_hef): 82 kPa\n",
                  "Tensão Horizontal (sig_h): 282 kPa\n"
                ]
              }
            ]
          }
        },
        "cd5c31d8228f4416ae5eefd3240afb58": {
          "model_module": "@jupyter-widgets/controls",
          "model_module_version": "1.5.0",
          "model_name": "FloatTextModel",
          "state": {
            "_dom_classes": [],
            "_model_module": "@jupyter-widgets/controls",
            "_model_module_version": "1.5.0",
            "_model_name": "FloatTextModel",
            "_view_count": null,
            "_view_module": "@jupyter-widgets/controls",
            "_view_module_version": "1.5.0",
            "_view_name": "FloatTextView",
            "continuous_update": false,
            "description": "z",
            "description_tooltip": null,
            "disabled": false,
            "layout": "IPY_MODEL_a0c1d036b3cb4263ad692ced7cd56d69",
            "step": null,
            "style": "IPY_MODEL_4cb5f71c7537488b9344207d4797c785",
            "value": 20
          }
        }
      }
    }
  },
  "nbformat": 4,
  "nbformat_minor": 0
}
