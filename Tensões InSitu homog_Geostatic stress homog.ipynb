{
 "cells": [
  {
   "cell_type": "markdown",
   "metadata": {},
   "source": [
    " <a href=\"https://colab.research.google.com/github/geoUFSC/learning/blob/main/Tens%C3%B5es%20InSitu%20homog_Geostatic%20stress%20homog.ipynb\" target=\"_parent\"><img src=\"https://colab.research.google.com/assets/colab-badge.svg\" alt=\"Open In Colab\"/></a>"
   ]
  },
  {
   "cell_type": "markdown",
   "metadata": {},
   "source": [
    " # Tensões geostáticas em solo homogêneo _(Geostatic stresses in homogeneous soil mass)_\n",
    "\n",
    "\n",
    "\n",
    " Neste exemplo, vamos calcular as tensões verticais e horizontais (total e efetiva) do solo usando o Princípio das tensões efetivas. \\\n",
    "  _In this example, we will calculate the vertical and horizontal stresses (total and effective) of the soil using the Effective stress principle._\n"
   ]
  },
  {
   "cell_type": "markdown",
   "metadata": {},
   "source": [
    " ### Parâmetros _(Parameters)_\n",
    "\n",
    "\n",
    "\n",
    " A seguir, apresenta-se uma imagem para melhor interpretação e a definição das variáveis: \\\n",
    "  _In the following, an image is presented for better interpretation along with the definition of the variables:_\n",
    "\n",
    " <p align=\"center\">\n",
    " <img src=\"images/tensoes-geostaticas.png\" alt=\"\" width=\"500\">\n",
    " </p>\n",
    "\n",
    "\n",
    "\n",
    " Para o cálculo das tensões no solo são necessários os seguintes parâmetros: \\\n",
    " _The following parameters are required to calculate the stresses in the soil:_\n",
    " - **z**: Cota do elemento analisado, m | _Elevation of the analyzed element, m_\n",
    " - **zw**:  Cota de NA, m | _Water table elevation, m_\n",
    " - **k0**:  Coeficiente de empuxo em repouso, $k_0$ -| _Coefficient of earth pressure at rest, $k_0$_\n",
    " - **gamma_n**:  Peso específico do solo, $\\gamma_n$ kN/m³| _Unit weight of soil, $\\gamma_n$ kN/m³_\n",
    " - **gamma_w**:  Peso específico da água, $\\gamma_w$ kN/m³ | _Unit weight of water, $\\gamma_w$ kN/m³_\n",
    " - **u**:  Poropressão, $\\mu$ kN/m³ | _Pore pressure, $\\mu$ kN/m²_\n",
    " - **sig_v**:  Tensão vertical total, $\\sigma_v$ kN/m² | _Total vertical stress, $\\sigma_v$ kN/m²_\n",
    " - **sig_vef**:  Tensão vertical efetiva, $\\sigma_{v,ef}$ kN/m² | _Effective vertical stress, $\\sigma_{v,ef}$ kN/m²_\n",
    " - **sig_h**:  Tensão horizontal total, $\\sigma_h$ kN/m² | _Total horizontal stress, $\\sigma_h$ kN/m²_\n",
    " - **sig_hef**:  Tensão horizotal efetiva, $\\sigma_{h,ef}$ kN/m² | _Effective horizontal stress, $\\sigma_{h,ef}$ kN/m²_\n",
    "\n",
    "\n",
    "\n",
    " **Atenção:** Se $zw<0$ então o NA está acima do NT; Se $zw=0$ então o NA está junto com o NT  \\\n",
    " _**Attention:** If $zw<0$, then the water table (NA) is above the ground level (NT); If $zw=0$, then the water table (NA) is at the ground level (NT)_"
   ]
  },
  {
   "cell_type": "markdown",
   "metadata": {},
   "source": [
    " ## Pré-requisitos _(Prerequisites)_\n",
    "\n",
    " Vamos utilizar os pacotes:\n",
    " - `numpy`: para funções numéricas _(for numerical functions)_\n",
    " - `matplotlib`: para  visualizações gráfica _(for graphical visualizations)_\n",
    " - `ipywidgets`: para ferramentas interativas _(for interactive tools)_\n"
   ]
  },
  {
   "cell_type": "code",
   "execution_count": 13,
   "metadata": {},
   "outputs": [],
   "source": [
    "import matplotlib.pyplot as plt\n",
    "import numpy as np\n",
    "import ipywidgets as widgets\n",
    "from ipywidgets import interact, VBox, Output\n"
   ]
  },
  {
   "cell_type": "markdown",
   "metadata": {},
   "source": [
    " ### Exercício _(Exercise)_\n",
    "\n",
    "\n",
    "\n",
    " Defina uma função chamada `calcular_tensoes` que calcule a poropressão, tensão vertical e horizonta, total e efetiva em um ponto/elemento de solo de interesse. \n",
    " _Define a function `calcular_tensoes` that computes the pore pressure, vertical and horizontal stresses, both total and effective, at a soil point/element of interest._\n",
    "\n",
    "\n",
    "\n"
   ]
  },
  {
   "cell_type": "code",
   "execution_count": 14,
   "metadata": {},
   "outputs": [],
   "source": [
    "# Cálculos\n",
    "def calcular_tensoes(z, gamma_n, zw, gamma_w, k0):\n",
    "    sig_v = np.where(zw < 0, gamma_n * z + gamma_w * -zw, gamma_n * z)\n",
    "    u = np.where(z <= zw, 0, (z - zw) * gamma_w)\n",
    "    sig_vef = sig_v - u\n",
    "    sig_hef = k0 * sig_vef\n",
    "    sig_h = sig_hef + u\n",
    "    return sig_v, u, sig_vef, sig_hef, sig_h\n"
   ]
  },
  {
   "cell_type": "markdown",
   "metadata": {},
   "source": [
    " ### Verificações _(Testing)_\n",
    "\n",
    "\n",
    "\n",
    " Vamos verificar a implementação para alguns valores esperados. Caso alguma verificação falhe, volte à célula anterior e corrija a função. \\\n",
    " _We will verify the implementation against a few expected values. If any check fails, go back to the previous cell and fix the function._"
   ]
  },
  {
   "cell_type": "code",
   "execution_count": 15,
   "metadata": {},
   "outputs": [
    {
     "name": "stdout",
     "output_type": "stream",
     "text": [
      "Sucesso!\n"
     ]
    }
   ],
   "source": [
    "# Função para verificar se os valores são iguais dentro de uma tolerância\n",
    "# Helper function to compare the function result with manual calculations, with a precision of 4 decimal places\n",
    "def verifica_se_iguais(x, y):\n",
    "    np.testing.assert_almost_equal(x, y, decimal=4)\n",
    "\n",
    "# 1o conjunto de dados (1st set of data)\n",
    "z = 4 # m\n",
    "gamma_n = 20 # kN/m³\n",
    "zw = -2 # m\n",
    "gamma_w = 10 # kN/m³\n",
    "k0 = 0.5\n",
    "verifica_se_iguais(calcular_tensoes(z, gamma_n, zw, gamma_w, k0), (100, 60, 40, 20, 80)) # kN/m²\n",
    "\n",
    "# 2o conjunto de dados (2nd set of data)\n",
    "z = 40 # m\n",
    "gamma_n = 18 # kN/m³\n",
    "zw = 0 # m\n",
    "gamma_w = 10 # kN/m³\n",
    "k0 = 0.5\n",
    "sig_v, u, sig_vef, sig_hef, sig_h = calcular_tensoes(z, gamma_n, zw, gamma_w, k0)\n",
    "verifica_se_iguais(sig_h, 560) # kN/m²\n",
    "\n",
    "# 3o conjunto de dados (3rd set of data)\n",
    "z = 40 # m\n",
    "gamma_n = 18 # kN/m³\n",
    "zw = 30 # m\n",
    "gamma_w = 10 # kN/m³\n",
    "k0 = 0.5\n",
    "sig_v, u, sig_vef, sig_hef, sig_h = calcular_tensoes(z, gamma_n, zw, gamma_w, k0)\n",
    "verifica_se_iguais(sig_h, 410) # kN/m²\n",
    "\n",
    "# 4o conjunto de dados (4th set of data)\n",
    "z = 10\n",
    "gamma_n = 22\n",
    "zw = 0\n",
    "gamma_w = 10\n",
    "k0 = 1\n",
    "sig_v, u, sig_vef, sig_hef, sig_h = calcular_tensoes(z, gamma_n, zw, gamma_w, k0)\n",
    "verifica_se_iguais(sig_h, 220) # kN/m²\n",
    "\n",
    "# Se todas as verificações passarem, imprime sucesso\n",
    "# If no error occurs, the checks were successful \"Sucesso!\"\n",
    "print('Sucesso!')\n"
   ]
  },
  {
   "cell_type": "markdown",
   "metadata": {},
   "source": [
    " ### Exercício _(Exercise)_\n",
    "\n",
    "\n",
    "\n",
    " Determine as tensões verticais e horizontais totais e efetivas atuantes em um elemento A de solo situado na profundidade a 10 mestros de profundidade ($z=10$ m). Adote $k_0=0.5$ e $\\gamma_w=10$ kN/m³ \\\n",
    " _Determine the total and effective vertical and horizontal stresses acting on a soil element A located at a depth of 10 meters ($z=10$ m). Assume $k_0=0.5$ and $\\gamma_w=10$ kN/m³._\n",
    "\n",
    "\n",
    "\n",
    " <p align=\"center\">\n",
    "\n",
    " <img src=\"images/tensoes-geostaticas-ex.1.png\" alt=\"\" width=\"500\">\n",
    "\n",
    " </p>"
   ]
  },
  {
   "cell_type": "code",
   "execution_count": 16,
   "metadata": {},
   "outputs": [
    {
     "name": "stdout",
     "output_type": "stream",
     "text": [
      "Resultado manual: | Manual results:\n",
      "μ: 80 kPa\n",
      "σ_v: 180 kPa\n",
      "σ_v,ef: 100 kPa\n",
      "σ_h: 130 kPa\n",
      "σ_h,ef: 50 kPa\n",
      "_________________\n",
      "Resultados da função: | Function results:\n",
      "μ: 80 kPa\n",
      "σ_v: 180 kPa\n",
      "σ_v,ef: 100 kPa\n",
      "σ_h: 130 kPa\n",
      "σ_h,ef: 50 kPa\n"
     ]
    }
   ],
   "source": [
    "#Cálculo manual para comparação \n",
    "#Manual calculation for comparison\n",
    "sig_v = 18 * 10\n",
    "u = (10 - 2) * 10\n",
    "sig_vef = sig_v - u\n",
    "sig_hef = 0.5 * sig_vef\n",
    "sig_h = sig_hef + u\n",
    "\n",
    "print(f\"Resultado manual: | Manual results:\")\n",
    "print(f\"\\u03bc: {int(u)} kPa\")\n",
    "print(f\"\\u03c3_v: {int(sig_v)} kPa\") \n",
    "print(f\"\\u03c3_v,ef: {int(sig_vef)} kPa\")\n",
    "print(f\"\\u03c3_h: {int(sig_h)} kPa\")\n",
    "print(f\"\\u03c3_h,ef: {int(sig_hef)} kPa\")\n",
    "\n",
    "print(f\"_________________\")\n",
    "\n",
    "#Solução usando a função definida anteriormente \n",
    "#Solution using the previously defined function\n",
    "sig_v, u, sig_vef, sig_hef, sig_h = calcular_tensoes(10, 18, 2, 10, 0.5)\n",
    "print(f\"Resultados da função: | Function results:\")\n",
    "print(f\"\\u03bc: {int(u)} kPa\")\n",
    "print(f\"\\u03c3_v: {int(sig_v)} kPa\")\n",
    "print(f\"\\u03c3_v,ef: {int(sig_vef)} kPa\")\n",
    "print(f\"\\u03c3_h: {int(sig_h)} kPa\")\n",
    "print(f\"\\u03c3_h,ef: {int(sig_hef)} kPa\")\n",
    "\n",
    "\n"
   ]
  },
  {
   "cell_type": "markdown",
   "metadata": {},
   "source": [
    " ## Gráfico de tensões verticais e horizontais ao longo da profundidade _(Vertical and horizontal stresses along depth)_"
   ]
  },
  {
   "cell_type": "code",
   "execution_count": 17,
   "metadata": {
    "colab": {
     "base_uri": "https://localhost:8080/",
     "height": 839,
     "referenced_widgets": [
      "8305f7e0e8d947bf8f26f94d1eccf212",
      "544e6b82f7724009a1e2069b0700b995",
      "3f10fb86d2804d0bb511ab858836f40e",
      "0fd9c02031fa4566bc6394c58acd3620",
      "cd5c31d8228f4416ae5eefd3240afb58",
      "c5ca68e4859f4fecb6e7c14be6dd1651",
      "509e4de46ad94d13b2efdd3e16ca89f9",
      "b69d28f88c8f48e8a6449462d9b23224",
      "48e24d28959642a7af93a63f08fbe07d",
      "14f7d4da3e004d1ca9c2bcc90114583e",
      "1bdb48dade2e4a8c8cb837a346015226",
      "bc1a0888d16345fcb059aee1363a813f",
      "68211d0e19e842648575cdf46d1365fc",
      "a0c1d036b3cb4263ad692ced7cd56d69",
      "4cb5f71c7537488b9344207d4797c785",
      "0056b42e8b594590bf4f1edbbe2b4e49"
     ]
    },
    "id": "Av4cX8yB7aif",
    "outputId": "fff7e1cb-b3a8-4561-e4eb-5e2160950369"
   },
   "outputs": [
    {
     "data": {
      "application/vnd.jupyter.widget-view+json": {
       "model_id": "4add77129ca04cf091f695dd2445ec57",
       "version_major": 2,
       "version_minor": 0
      },
      "text/plain": [
       "VBox(children=(FloatSlider(value=19.0, description='γn (kN/m³)', max=22.0, min=14.0), FloatSlider(value=0.5, d…"
      ]
     },
     "metadata": {},
     "output_type": "display_data"
    }
   ],
   "source": [
    "# Função para atualizar o gráfico e imprimir os resultados \n",
    "# Function to update the graph and print the results\n",
    "def atualizar_grafico(gamma_n, k0, zw, z_value): \n",
    "    z = np.linspace(0, z_value, 500)  # array de profundidades do solo (soil depth array)\n",
    "    sig_v, u, sig_vef, sig_hef, sig_h = calcular_tensoes(z, gamma_n, zw, gamma_w, k0)\n",
    "\n",
    "    # Limpar a área de saída antes de plotar (Clear outputs before plotting)\n",
    "    out.clear_output(wait=True)\n",
    "\n",
    "    # Imprimindo os gráficos (Plotting the graphs)\n",
    "    with out:\n",
    "        fig, (ax1, ax2) = plt.subplots(1, 2, figsize=(12, 6))\n",
    "\n",
    "        # 1: (sig_v) & (sig_vef)\n",
    "        ax1.plot(u, z, label='\\u03bc', color= 'blue') #Poropressão | Pore pressure\n",
    "        ax1.plot(sig_v, z, label='\\u03c3_v', color='coral') #Tensão Vertical | Vertical Stress\n",
    "        ax1.plot(sig_vef, z, label='\\u03c3_v,ef', linestyle='-', color= 'green') #Tensão Vertical Efetiva | Effective Vertical Stress\n",
    "\n",
    "        # Hachura entre u e sig_v | Hatch between u and sig_v\n",
    "        for i in range(len(z)):\n",
    "            ax1.plot([u[i], sig_v[i]], [z[i], z[i]], linestyle='--', alpha=0.5, linewidth=0.5, color='green')\n",
    "\n",
    "        ax1.set_xlabel('(kPa)')\n",
    "        ax1.xaxis.set_label_position('top')\n",
    "        ax1.xaxis.tick_top()\n",
    "        ax1.set_ylabel('z (m)')\n",
    "        ax1.set_title('Tensão Vertical | Vertical Stress')\n",
    "        ax1.legend()\n",
    "        ax1.set_xlim([0, 1000])  # fixa o limite máximo do eixo x para 1000 | set the maximum limit of x axis to 1000\n",
    "        ax1.set_ylim(ax1.get_ylim()[::-1])\n",
    "        ax1.set_xlim(left=0)\n",
    "        ax1.grid(True)\n",
    "\n",
    "        \n",
    "        # 2: (sig_h) & (sig_hef)\n",
    "        ax2.plot(u, z, label='\\u03bc', color= 'blue') #Poropressão | Pore pressure\n",
    "        ax2.plot(sig_h, z, label='\\u03c3_h',color='coral') #Tensão Horizontal | Horizontal Stress\n",
    "        ax2.plot(sig_hef, z, label='\\u03c3_h,ef', linestyle='--', color= 'green') #Tensão Horizontal Efetiva | Effective Horizontal Stress\n",
    "\n",
    "        # Hachura entre u e sig_h | Hatch between u and sig_h\n",
    "        for i in range(len(z)):\n",
    "            ax2.plot([u[i], sig_h[i]], [z[i], z[i]], linestyle='--', alpha=0.5, linewidth=0.5, color='green') \n",
    "\n",
    "        ax2.set_xlabel('(kPa)')\n",
    "        ax2.xaxis.set_label_position('top')\n",
    "        ax2.xaxis.tick_top()\n",
    "        ax2.set_ylabel('z (m)')\n",
    "        ax2.set_title('Tensão Horizontal | Horizontal Stress')\n",
    "        ax2.legend()\n",
    "        ax2.set_xlim([0, 1000])  # fixa o limite máximo do eixo x para 1000 | set the maximum limit of x axis to 1000\n",
    "        ax2.set_ylim(ax2.get_ylim()[::-1])\n",
    "        ax2.set_xlim(left=0)\n",
    "        ax2.grid(True)\n",
    "\n",
    "        plt.tight_layout()\n",
    "        plt.show()\n",
    "\n",
    "        # Impressão dos resultados para um ponto específico (Printing the results)\n",
    "        print(f'Tensões geoestáticas em z={z_value} m')\n",
    "        print(f'\\u03bc = {int(u[-1])} kPa') # Poropressão | Pore pressure\n",
    "        print(f'\\u03c3_v = {int(sig_v[-1])} kPa') # Tensão Vertical | Vertical Stress\n",
    "        print(f'\\u03c3_v,ef = {int(sig_vef[-1])} kPa') # Tensão Vertical Efetiva | Effective Vertical Stress\n",
    "        print(f'\\u03c3_h = {int(sig_h[-1])} kPa') # Tensão Horizontal | Horizontal Stress\n",
    "        print(f'\\u03c3_h,ef = {int(sig_hef[-1])} kPa') # Tensão Horizontal Efetiva | Effective Horizontal Stress\n",
    "\n",
    "# Dados de exemplo (example data)\n",
    "gamma_w = 10  # kN/m³\n",
    "\n",
    "\n",
    "# Cria os sliders para os valores de gamma_n, k0 e zw e uma entrada para z\n",
    "# Create sliders for gamma_n, k0, and zw values and an input for z\n",
    "slider_gamma_n = widgets.FloatSlider(min=14, max=22, step=0.1, value=19, description='\\u03b3n (kN/m³)')\n",
    "slider_k0 = widgets.FloatSlider(min=0.1, max=1.2, step=0.05, value=0.5, description='k0 (-)')\n",
    "slider_zw = widgets.FloatSlider(min=-10, max=40, step=0.1, value=8, description='zw (m)')\n",
    "entrada_z = widgets.FloatText(value=40, description='z (m)', continuous_update=False)\n",
    "\n",
    "# Área de saída para mensagens e resultados\n",
    "out = Output()\n",
    "\n",
    "# Usa o interator do ipywidgets para atualizar o gráfico quando os sliders forem movidos\n",
    "ui = VBox([slider_gamma_n, slider_k0, slider_zw, entrada_z, out])\n",
    "widgets.interactive_output(atualizar_grafico, {'gamma_n': slider_gamma_n, 'k0': slider_k0, 'zw': slider_zw, 'z_value': entrada_z})\n",
    "\n",
    "display(ui)\n",
    "\n"
   ]
  },
  {
   "cell_type": "markdown",
   "metadata": {},
   "source": [
    " ---\n",
    " ---\n",
    "\n",
    " #### **PROJETO: REPOSITÓRIO PYTHON PARA GEOTECNIA _(PYTHON REPOSITORY FOR GEOTECHNICS)_**\n",
    "\n",
    " Este repositório faz parte do projeto de extensão da **Universidade Federal de Santa Catarina** (UFSC) denominado **\"Repositório Python para Geotecnia\"**, cujo objetivo é desenvolver e compartilhar scripts interativos de geotecnia. \\\n",
    " _This repostitory is part of the extension project of the **Federal University of Santa Catarina** (UFSC) called **\"Python Repository for Geotechnics\"**, which aims to develop and share interactive scripts for geotechnical engineering._\n",
    "\n",
    "\n",
    "\n",
    " ##### Equipe 2024: _(Team 2024)_\n",
    " - Prof. Stephanie Thiesen* (coordenadora/_coordinator_): `stephanie.thiesen@ufsc.br` \\\n",
    "     - Bárbara Liskoski (voluntária | _volunteer_)\n",
    "     - Célio de Sousa Lopes (bolsista | _scholarship holder_)\n",
    "     - Leonardo Taveira de Paula (voluntário | _volunteer_)\n",
    "\n",
    "\n",
    "\n",
    "  *Para sugestões, entre em contato pelo e-mail \\\n",
    " _*For suggestions, please contact via e-mail_\n",
    "\n",
    "\n",
    "\n",
    " **Isenção de Responsabilidade:**\n",
    " Os autores deste projeto não se responsabilizam por quaisquer usos indevidos, imprecisões ou danos resultantes da aplicação dos scripts e funções contidos neste repositório. O uso dos materiais é de responsabilidade exclusiva do usuário. \\\n",
    " **_Disclaimer:_** _The authors of this project are not responsible for any misuse, inaccuracies, or damages resulting from the application of the scripts and functions contained in this repository. The use of the materials is the sole responsibility of the user._\n",
    "\n",
    " ---\n",
    " ---"
   ]
  },
  {
   "cell_type": "markdown",
   "metadata": {},
   "source": []
  }
 ],
 "metadata": {
  "kernelspec": {
   "display_name": "Python 3",
   "language": "python",
   "name": "python3"
  },
  "language_info": {
   "codemirror_mode": {
    "name": "ipython",
    "version": 3
   },
   "file_extension": ".py",
   "mimetype": "text/x-python",
   "name": "python",
   "nbconvert_exporter": "python",
   "pygments_lexer": "ipython3",
   "version": "3.11.9"
  }
 },
 "nbformat": 4,
 "nbformat_minor": 2
}
